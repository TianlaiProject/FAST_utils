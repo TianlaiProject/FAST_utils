{
 "cells": [
  {
   "cell_type": "code",
   "execution_count": 6,
   "metadata": {},
   "outputs": [
    {
     "data": {
      "text/plain": [
       "<module 'HI_utils.src.data_format' from '/users/ycli/.local/lib/python2.7/site-packages/HI_utils/src/data_format.py'>"
      ]
     },
     "execution_count": 6,
     "metadata": {},
     "output_type": "execute_result"
    }
   ],
   "source": [
    "from HI_utils.src import data_conv as dc\n",
    "from HI_utils.src import data_format\n",
    "import h5py\n",
    "import numpy as np\n",
    "import matplotlib.pyplot as plt\n",
    "\n",
    "from astropy.time import Time\n",
    "import astropy.units as u\n",
    "reload(dc)\n",
    "reload(data_format)"
   ]
  },
  {
   "cell_type": "code",
   "execution_count": 3,
   "metadata": {},
   "outputs": [],
   "source": [
    "reload(dc)\n",
    "data_path = '/scratch/users/ycli/.test/'\n",
    "data_list = ['SDSS_N_2a_arcdrfit-M01_W_0001.fits',]\n",
    "data_file_list = [data_path + f for f in data_list]\n",
    "\n",
    "\n",
    "fdata = data_format.FASTfits_Spec(data_file_list)"
   ]
  },
  {
   "cell_type": "code",
   "execution_count": 104,
   "metadata": {},
   "outputs": [],
   "source": [
    "dec0 = 25.65294\n",
    "feed_rotation = 0\n",
    "ra, dec = dc.get_pointing_meridian_scan(fdata.time, dec0, feed_rotation=feed_rotation)\n"
   ]
  },
  {
   "cell_type": "code",
   "execution_count": 105,
   "metadata": {},
   "outputs": [
    {
     "data": {
      "image/png": "[encoded data removed]",
      "text/plain": [
       "<Figure size 720x432 with 1 Axes>"
      ]
     },
     "metadata": {},
     "output_type": "display_data"
    }
   ],
   "source": [
    "plt.figure(figsize=(10, 6))\n",
    "for ii in range(19):\n",
    "    plt.plot(ra[0, ii], dec[0, ii],  'go')\n",
    "    plt.text(ra[0, ii], dec[0, ii] + 0.01, '%d'%(ii + 1))\n",
    "    plt.plot(ra[:, ii], dec[:, ii],  '-')\n",
    "    \n",
    "    #plt.polar(_c[0, ii].ra.deg, (90 - _c[0, ii].dec.deg)*3600,  'go')\n",
    "    #plt.polar(_c[:, ii].ra.deg, (90 - _c[:, ii].dec.deg)*3600,  '-')\n",
    "    \n",
    "    plt.axes().set_aspect('equal')\n",
    "    #plt.ylim(80, 95)\n"
   ]
  },
  {
   "cell_type": "code",
   "execution_count": 22,
   "metadata": {},
   "outputs": [
    {
     "name": "stdout",
     "output_type": "stream",
     "text": [
      "Degrade frequency resolution from   0.476837158203 kHz to   7.629394531250 kHz,\n",
      "By combining avery 16 frequency bins\n",
      "Freq(0) = 1000.003337860107 MHz, dFreq =   7.629394531250 kHz\n"
     ]
    }
   ],
   "source": [
    "fdata.rebin_freq(16)"
   ]
  },
  {
   "cell_type": "code",
   "execution_count": 24,
   "metadata": {},
   "outputs": [
    {
     "name": "stdout",
     "output_type": "stream",
     "text": [
      "(128, 65536, 4)\n"
     ]
    }
   ],
   "source": [
    "print fdata.data.shape"
   ]
  },
  {
   "cell_type": "code",
   "execution_count": 6,
   "metadata": {},
   "outputs": [
    {
     "name": "stdout",
     "output_type": "stream",
     "text": [
      "(128, 1048576, 4)\n",
      "(128, 1048576, 4)\n",
      "(1048576,)\n",
      "(128,)\n",
      "2019/05/27 09:00:00\n",
      "1048576\n",
      "65536\n",
      "16\n"
     ]
    }
   ],
   "source": [
    "\n",
    "\n",
    "\n",
    "print fdata.data.shape\n",
    "print fdata.mask.shape\n",
    "print fdata.freq.shape\n",
    "print fdata.time.shape\n",
    "print fdata.date_obs.datetime.strftime('%Y/%m/%d %H:%M:%S')\n",
    "print 1024 * 1024\n",
    "print 64 * 1024\n",
    "print 1024 / 64"
   ]
  },
  {
   "cell_type": "code",
   "execution_count": 5,
   "metadata": {},
   "outputs": [
    {
     "name": "stdout",
     "output_type": "stream",
     "text": [
      "/scratch/users/ycli/.test/SDSS_N_2a_arcdrfit-M01_W_0001.fits\n",
      "/scratch/users/ycli/.test/SDSS_N_2a_arcdrfit-M01_W_0002.fits\n",
      "Degrade frequency resolution from   0.476837158203 kHz to   7.629394531250 kHz\n",
      "By averaging avery 16 frequency bins\n",
      "Freq(0) = 1000.003337860107 MHz, dFreq =   7.629394531250 kHz\n",
      "\n",
      "\n",
      "/scratch/users/ycli/.test/SDSS_N_2a_arcdrfit-M02_W_0001.fits\n",
      "/scratch/users/ycli/.test/SDSS_N_2a_arcdrfit-M02_W_0002.fits\n",
      "Degrade frequency resolution from   0.476837158203 kHz to   7.629394531250 kHz\n",
      "By averaging avery 16 frequency bins\n",
      "Freq(0) = 1000.003337860107 MHz, dFreq =   7.629394531250 kHz\n",
      "\n",
      "\n"
     ]
    }
   ],
   "source": [
    "data_path   = '/scratch/users/ycli/.test/'\n",
    "output_path = data_path + 'test.h5'\n",
    "data_file   = 'SDSS_N_2a_arcdrfit-M%02d_W_%04d.fits'\n",
    "dec0 = 25.65294\n",
    "beam_list   = [1, 2]\n",
    "block_list  = [1, 2]\n",
    "\n",
    "dc.convert_to_tl(data_path, data_file, output_path, dec0 = 25.65294, feed_rotation=0.,\n",
    "                 beam_list=beam_list, block_list=block_list, degrade_freq_resol=16)"
   ]
  },
  {
   "cell_type": "code",
   "execution_count": 17,
   "metadata": {},
   "outputs": [],
   "source": [
    "data_path = '/scratch/users/ycli/.test/'\n",
    "file_name_list = [data_path + 'test.h5', ] \n",
    "datah5 = data_format.FASTh5_Spec(file_name_list)"
   ]
  },
  {
   "cell_type": "code",
   "execution_count": 23,
   "metadata": {},
   "outputs": [
    {
     "name": "stdout",
     "output_type": "stream",
     "text": [
      "(256, 65536, 4, 2)\n",
      "False\n",
      "[[[[False False]\n",
      "   [False False]\n",
      "   [False False]\n",
      "   [False False]]\n",
      "\n",
      "  [[False False]\n",
      "   [False False]\n",
      "   [False False]\n",
      "   [False False]]\n",
      "\n",
      "  [[False False]\n",
      "   [False False]\n",
      "   [False False]\n",
      "   [False False]]\n",
      "\n",
      "  ...\n",
      "\n",
      "  [[False False]\n",
      "   [False False]\n",
      "   [False False]\n",
      "   [False False]]\n",
      "\n",
      "  [[False False]\n",
      "   [False False]\n",
      "   [False False]\n",
      "   [False False]]\n",
      "\n",
      "  [[False False]\n",
      "   [False False]\n",
      "   [False False]\n",
      "   [False False]]]\n",
      "\n",
      "\n",
      " [[[False False]\n",
      "   [False False]\n",
      "   [False False]\n",
      "   [False False]]\n",
      "\n",
      "  [[False False]\n",
      "   [False False]\n",
      "   [False False]\n",
      "   [False False]]\n",
      "\n",
      "  [[False False]\n",
      "   [False False]\n",
      "   [False False]\n",
      "   [False False]]\n",
      "\n",
      "  ...\n",
      "\n",
      "  [[False False]\n",
      "   [False False]\n",
      "   [False False]\n",
      "   [False False]]\n",
      "\n",
      "  [[False False]\n",
      "   [False False]\n",
      "   [False False]\n",
      "   [False False]]\n",
      "\n",
      "  [[False False]\n",
      "   [False False]\n",
      "   [False False]\n",
      "   [False False]]]\n",
      "\n",
      "\n",
      " [[[False False]\n",
      "   [False False]\n",
      "   [False False]\n",
      "   [False False]]\n",
      "\n",
      "  [[False False]\n",
      "   [False False]\n",
      "   [False False]\n",
      "   [False False]]\n",
      "\n",
      "  [[False False]\n",
      "   [False False]\n",
      "   [False False]\n",
      "   [False False]]\n",
      "\n",
      "  ...\n",
      "\n",
      "  [[False False]\n",
      "   [False False]\n",
      "   [False False]\n",
      "   [False False]]\n",
      "\n",
      "  [[False False]\n",
      "   [False False]\n",
      "   [False False]\n",
      "   [False False]]\n",
      "\n",
      "  [[False False]\n",
      "   [False False]\n",
      "   [False False]\n",
      "   [False False]]]\n",
      "\n",
      "\n",
      " ...\n",
      "\n",
      "\n",
      " [[[False False]\n",
      "   [False False]\n",
      "   [False False]\n",
      "   [False False]]\n",
      "\n",
      "  [[False False]\n",
      "   [False False]\n",
      "   [False False]\n",
      "   [False False]]\n",
      "\n",
      "  [[False False]\n",
      "   [False False]\n",
      "   [False False]\n",
      "   [False False]]\n",
      "\n",
      "  ...\n",
      "\n",
      "  [[False False]\n",
      "   [False False]\n",
      "   [False False]\n",
      "   [False False]]\n",
      "\n",
      "  [[False False]\n",
      "   [False False]\n",
      "   [False False]\n",
      "   [False False]]\n",
      "\n",
      "  [[False False]\n",
      "   [False False]\n",
      "   [False False]\n",
      "   [False False]]]\n",
      "\n",
      "\n",
      " [[[False False]\n",
      "   [False False]\n",
      "   [False False]\n",
      "   [False False]]\n",
      "\n",
      "  [[False False]\n",
      "   [False False]\n",
      "   [False False]\n",
      "   [False False]]\n",
      "\n",
      "  [[False False]\n",
      "   [False False]\n",
      "   [False False]\n",
      "   [False False]]\n",
      "\n",
      "  ...\n",
      "\n",
      "  [[False False]\n",
      "   [False False]\n",
      "   [False False]\n",
      "   [False False]]\n",
      "\n",
      "  [[False False]\n",
      "   [False False]\n",
      "   [False False]\n",
      "   [False False]]\n",
      "\n",
      "  [[False False]\n",
      "   [False False]\n",
      "   [False False]\n",
      "   [False False]]]\n",
      "\n",
      "\n",
      " [[[False False]\n",
      "   [False False]\n",
      "   [False False]\n",
      "   [False False]]\n",
      "\n",
      "  [[False False]\n",
      "   [False False]\n",
      "   [False False]\n",
      "   [False False]]\n",
      "\n",
      "  [[False False]\n",
      "   [False False]\n",
      "   [False False]\n",
      "   [False False]]\n",
      "\n",
      "  ...\n",
      "\n",
      "  [[False False]\n",
      "   [False False]\n",
      "   [False False]\n",
      "   [False False]]\n",
      "\n",
      "  [[False False]\n",
      "   [False False]\n",
      "   [False False]\n",
      "   [False False]]\n",
      "\n",
      "  [[False False]\n",
      "   [False False]\n",
      "   [False False]\n",
      "   [False False]]]]\n"
     ]
    }
   ],
   "source": [
    "print datah5.data.shape\n",
    "print np.any(datah5.mask)\n",
    "print datah5.mask"
   ]
  },
  {
   "cell_type": "code",
   "execution_count": null,
   "metadata": {},
   "outputs": [],
   "source": []
  }
 ],
 "metadata": {
  "kernelspec": {
   "display_name": "Source Finding",
   "language": "python",
   "name": "source-finding"
  },
  "language_info": {
   "codemirror_mode": {
    "name": "ipython",
    "version": 2
   },
   "file_extension": ".py",
   "mimetype": "text/x-python",
   "name": "python",
   "nbconvert_exporter": "python",
   "pygments_lexer": "ipython2",
   "version": "2.7.11+"
  }
 },
 "nbformat": 4,
 "nbformat_minor": 2
}
