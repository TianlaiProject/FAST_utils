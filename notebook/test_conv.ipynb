{
 "cells": [
  {
   "cell_type": "code",
   "execution_count": 11,
   "metadata": {},
   "outputs": [
    {
     "data": {
      "text/plain": [
       "<module 'HI_utils.src.data_format' from '/users/ycli/.local/lib/python2.7/site-packages/HI_utils/src/data_format.pyc'>"
      ]
     },
     "execution_count": 11,
     "metadata": {},
     "output_type": "execute_result"
    }
   ],
   "source": [
    "from HI_utils.src import data_conv as dc\n",
    "from HI_utils.src import data_format\n",
    "import h5py\n",
    "import numpy as np\n",
    "import matplotlib.pyplot as plt\n",
    "\n",
    "from astropy.time import Time\n",
    "from astropy.coordinates import EarthLocation\n",
    "import astropy.units as u\n",
    "reload(dc)\n",
    "reload(data_format)"
   ]
  },
  {
   "cell_type": "code",
   "execution_count": 2,
   "metadata": {},
   "outputs": [],
   "source": [
    "reload(dc)\n",
    "data_path = '/scratch/users/ycli/.test/bk/'\n",
    "data_list = ['SDSS_N_2a_arcdrfit-M01_W_0001.fits',]\n",
    "data_file_list = [data_path + f for f in data_list]\n",
    "\n",
    "\n",
    "fdata = data_format.FASTfits_Spec(data_file_list)"
   ]
  },
  {
   "cell_type": "code",
   "execution_count": 3,
   "metadata": {},
   "outputs": [],
   "source": [
    "dec0 = 26.15294\n",
    "feed_rotation = 0\n",
    "ra, dec = dc.get_pointing_meridian_scan(fdata.time, dec0, feed_rotation=feed_rotation)\n"
   ]
  },
  {
   "cell_type": "code",
   "execution_count": 4,
   "metadata": {},
   "outputs": [
    {
     "name": "stderr",
     "output_type": "stream",
     "text": [
      "/usr/local/lib/python2.7/dist-packages/matplotlib/cbook/deprecation.py:107: MatplotlibDeprecationWarning: Adding an axes using the same arguments as a previous axes currently reuses the earlier instance.  In a future version, a new instance will always be created and returned.  Meanwhile, this warning can be suppressed, and the future behavior ensured, by passing a unique label to each axes instance.\n",
      "  warnings.warn(message, mplDeprecation, stacklevel=1)\n"
     ]
    },
    {
     "data": {
      "image/png": "[encoded data removed]",
      "text/plain": [
       "<Figure size 720x432 with 1 Axes>"
      ]
     },
     "metadata": {},
     "output_type": "display_data"
    }
   ],
   "source": [
    "plt.figure(figsize=(10, 6))\n",
    "for ii in range(19):\n",
    "    plt.plot(ra[0, ii], dec[0, ii],  'go')\n",
    "    plt.text(ra[0, ii], dec[0, ii] + 0.01, '%d'%(ii + 1))\n",
    "    plt.plot(ra[:, ii], dec[:, ii],  '-')\n",
    "    \n",
    "    #plt.polar(_c[0, ii].ra.deg, (90 - _c[0, ii].dec.deg)*3600,  'go')\n",
    "    #plt.polar(_c[:, ii].ra.deg, (90 - _c[:, ii].dec.deg)*3600,  '-')\n",
    "    \n",
    "    plt.axes().set_aspect('equal')\n",
    "    #plt.ylim(80, 95)"
   ]
  },
  {
   "cell_type": "code",
   "execution_count": 105,
   "metadata": {},
   "outputs": [
    {
     "data": {
      "image/png": "[encoded data removed]",
      "text/plain": [
       "<Figure size 720x432 with 1 Axes>"
      ]
     },
     "metadata": {},
     "output_type": "display_data"
    }
   ],
   "source": []
  },
  {
   "cell_type": "code",
   "execution_count": 22,
   "metadata": {},
   "outputs": [
    {
     "name": "stdout",
     "output_type": "stream",
     "text": [
      "Degrade frequency resolution from   0.476837158203 kHz to   7.629394531250 kHz,\n",
      "By combining avery 16 frequency bins\n",
      "Freq(0) = 1000.003337860107 MHz, dFreq =   7.629394531250 kHz\n"
     ]
    }
   ],
   "source": [
    "fdata.rebin_freq(16)"
   ]
  },
  {
   "cell_type": "code",
   "execution_count": 24,
   "metadata": {},
   "outputs": [
    {
     "name": "stdout",
     "output_type": "stream",
     "text": [
      "(128, 65536, 4)\n"
     ]
    }
   ],
   "source": [
    "print fdata.data.shape"
   ]
  },
  {
   "cell_type": "code",
   "execution_count": 6,
   "metadata": {},
   "outputs": [
    {
     "name": "stdout",
     "output_type": "stream",
     "text": [
      "(128, 1048576, 4)\n",
      "(128, 1048576, 4)\n",
      "(1048576,)\n",
      "(128,)\n",
      "2019/05/27 09:00:00\n",
      "1048576\n",
      "65536\n",
      "16\n"
     ]
    }
   ],
   "source": [
    "\n",
    "\n",
    "\n",
    "print fdata.data.shape\n",
    "print fdata.mask.shape\n",
    "print fdata.freq.shape\n",
    "print fdata.time.shape\n",
    "print fdata.date_obs.datetime.strftime('%Y/%m/%d %H:%M:%S')\n",
    "print 1024 * 1024\n",
    "print 64 * 1024\n",
    "print 1024 / 64"
   ]
  },
  {
   "cell_type": "code",
   "execution_count": 4,
   "metadata": {},
   "outputs": [
    {
     "name": "stdout",
     "output_type": "stream",
     "text": [
      "/scratch/users/ycli/.test/SDSS_N_2a_arcdrfit-M01_W_0001.fits\n",
      "/scratch/users/ycli/.test/SDSS_N_2a_arcdrfit-M01_W_0002.fits\n",
      "Flag NCal 1 of every 8 time stamps with delay of 0 time stamps\n",
      "Degrade frequency resolution from   0.476837158203 kHz to   7.629394531250 kHz\n",
      "By averaging avery 16 frequency bins\n",
      "Freq(0) = 1000.003337860107 MHz, dFreq =   7.629394531250 kHz\n",
      "\n",
      "\n",
      "/scratch/users/ycli/.test/SDSS_N_2a_arcdrfit-M02_W_0001.fits\n",
      "/scratch/users/ycli/.test/SDSS_N_2a_arcdrfit-M02_W_0002.fits\n",
      "Flag NCal 1 of every 8 time stamps with delay of 0 time stamps\n",
      "Degrade frequency resolution from   0.476837158203 kHz to   7.629394531250 kHz\n",
      "By averaging avery 16 frequency bins\n",
      "Freq(0) = 1000.003337860107 MHz, dFreq =   7.629394531250 kHz\n",
      "\n",
      "\n"
     ]
    }
   ],
   "source": [
    "data_path   = '/scratch/users/ycli/.test/'\n",
    "output_path = data_path + 'test.h5'\n",
    "data_file   = 'SDSS_N_2a_arcdrfit-M%02d_W_%04d.fits'\n",
    "dec0 = 25.65294\n",
    "beam_list   = [1, 2]\n",
    "block_list  = [1, 2]\n",
    "\n",
    "dc.convert_to_tl(data_path, data_file, output_path, dec0 = 25.65294, feed_rotation=0.,\n",
    "                 beam_list=beam_list, block_list=block_list, degrade_freq_resol=16)"
   ]
  },
  {
   "cell_type": "code",
   "execution_count": 9,
   "metadata": {},
   "outputs": [
    {
     "name": "stdout",
     "output_type": "stream",
     "text": [
      "0.48828125\n",
      "[u'nickname', u'comment', u'observer', u'keywordver', u'sitename', u'sitelat', u'sitelon', u'siteelev', u'timezone', u'epoch', u'telescope', u'dishdiam', u'cylen', u'cywid', u'recvver', u'lofreq', u'corrver', u'samplingbits', u'corrmode', u'inttime', u'obstime', u'sec1970', u'nfreq', u'freqstart', u'freqstep', u'history', u'nants', u'npol']\n"
     ]
    }
   ],
   "source": [
    "import h5py \n",
    "data_path = '/scratch/users/ycli/.test/raw/'\n",
    "file_name_list = [data_path + 'SDSS_N_2a_arcdrfit0011-0020.h5', ] \n",
    "with h5py.File(file_name_list[0], 'r') as fh:\n",
    "    print fh.attrs['freqstep']\n",
    "    print fh.attrs.keys()\n",
    "    _Lat = fh.attrs['sitelat']\n",
    "    _Lon = fh.attrs['sitelon']\n",
    "    data = fh['vis'][:]\n",
    "    ra   = fh['ra'][:]\n",
    "    dec  = fh['dec'][:]\n",
    "    t = fh['sec1970'][:]\n",
    "    #f = fh['freqs'][:]\n",
    "    #print fh.attrs['history']"
   ]
  },
  {
   "cell_type": "code",
   "execution_count": 51,
   "metadata": {},
   "outputs": [
    {
     "name": "stdout",
     "output_type": "stream",
     "text": [
      "23\n",
      "5\n",
      "bool\n",
      "1\n",
      "[ True False  True]\n",
      "uint8\n",
      "[1 0 1]\n"
     ]
    }
   ],
   "source": [
    "print (4 * data.size) / 1024 / 1024 * 64 / 1024\n",
    "print (data.size) * 64 / 1024 / 1024 / 1024\n",
    "a = np.array([1, 0, 1], dtype='bool')\n",
    "print a.dtype\n",
    "print a.itemsize\n",
    "print a\n",
    "b = a.astype('uint8')\n",
    "print b.dtype\n",
    "print b"
   ]
  },
  {
   "cell_type": "code",
   "execution_count": 49,
   "metadata": {},
   "outputs": [
    {
     "name": "stdout",
     "output_type": "stream",
     "text": [
      "float32\n",
      "4\n",
      "float32\n",
      "[1.e-07 2.e-07]\n",
      "Machine parameters for float64\n",
      "---------------------------------------------------------------\n",
      "precision =  15   resolution = 1.0000000000000001e-15\n",
      "machep =    -52   eps =        2.2204460492503131e-16\n",
      "negep =     -53   epsneg =     1.1102230246251565e-16\n",
      "minexp =  -1022   tiny =       2.2250738585072014e-308\n",
      "maxexp =   1024   max =        1.7976931348623157e+308\n",
      "nexp =       11   min =        -max\n",
      "---------------------------------------------------------------\n",
      "\n",
      "Machine parameters for float32\n",
      "---------------------------------------------------------------\n",
      "precision =   6   resolution = 1.0000000e-06\n",
      "machep =    -23   eps =        1.1920929e-07\n",
      "negep =     -24   epsneg =     5.9604645e-08\n",
      "minexp =   -126   tiny =       1.1754944e-38\n",
      "maxexp =    128   max =        3.4028235e+38\n",
      "nexp =        8   min =        -max\n",
      "---------------------------------------------------------------\n",
      "\n"
     ]
    }
   ],
   "source": [
    "a = np.array([1.e-7, 2.e-7], dtype='float32')\n",
    "print a.dtype\n",
    "print a.itemsize\n",
    "b = a.astype('float32')\n",
    "print b.dtype\n",
    "print b\n",
    "\n",
    "print np.finfo('float64')\n",
    "print np.finfo('float32')"
   ]
  },
  {
   "cell_type": "code",
   "execution_count": 15,
   "metadata": {},
   "outputs": [
    {
     "name": "stdout",
     "output_type": "stream",
     "text": [
      "0.48828125\n",
      "Convert from:\n",
      "/data31/2019a-053-SC/SDSS_N_2a/20190527/SDSS_N_2a_arcdrfit-M01_W_0011.fits\n",
      "/data31/2019a-053-SC/SDSS_N_2a/20190527/SDSS_N_2a_arcdrfit-M01_W_0012.fits\n",
      "/data31/2019a-053-SC/SDSS_N_2a/20190527/SDSS_N_2a_arcdrfit-M01_W_0013.fits\n",
      "/data31/2019a-053-SC/SDSS_N_2a/20190527/SDSS_N_2a_arcdrfit-M01_W_0014.fits\n",
      "/data31/2019a-053-SC/SDSS_N_2a/20190527/SDSS_N_2a_arcdrfit-M01_W_0015.fits\n",
      "/data31/2019a-053-SC/SDSS_N_2a/20190527/SDSS_N_2a_arcdrfit-M01_W_0016.fits\n",
      "/data31/2019a-053-SC/SDSS_N_2a/20190527/SDSS_N_2a_arcdrfit-M01_W_0017.fits\n",
      "/data31/2019a-053-SC/SDSS_N_2a/20190527/SDSS_N_2a_arcdrfit-M01_W_0018.fits\n",
      "/data31/2019a-053-SC/SDSS_N_2a/20190527/SDSS_N_2a_arcdrfit-M01_W_0019.fits\n",
      "/data31/2019a-053-SC/SDSS_N_2a/20190527/SDSS_N_2a_arcdrfit-M01_W_0020.fits\n",
      "Flag NCal 1 of every 8 time stamps with delay of 0 time stamps\n",
      "Degrade frequency resolution from   0.476837158203 kHz to 488.281250000000 kHz\n",
      "By averaging avery 1024 frequency bins\n",
      "Freq(0) = 1000.243663787842 MHz, dFreq = 488.281250000000 kHz\n",
      "/data31/2019a-053-SC/SDSS_N_2a/20190527/SDSS_N_2a_arcdrfit-M02_W_0011.fits\n",
      "/data31/2019a-053-SC/SDSS_N_2a/20190527/SDSS_N_2a_arcdrfit-M02_W_0012.fits\n",
      "/data31/2019a-053-SC/SDSS_N_2a/20190527/SDSS_N_2a_arcdrfit-M02_W_0013.fits\n",
      "/data31/2019a-053-SC/SDSS_N_2a/20190527/SDSS_N_2a_arcdrfit-M02_W_0014.fits\n",
      "/data31/2019a-053-SC/SDSS_N_2a/20190527/SDSS_N_2a_arcdrfit-M02_W_0015.fits\n",
      "/data31/2019a-053-SC/SDSS_N_2a/20190527/SDSS_N_2a_arcdrfit-M02_W_0016.fits\n",
      "/data31/2019a-053-SC/SDSS_N_2a/20190527/SDSS_N_2a_arcdrfit-M02_W_0017.fits\n",
      "/data31/2019a-053-SC/SDSS_N_2a/20190527/SDSS_N_2a_arcdrfit-M02_W_0018.fits\n",
      "/data31/2019a-053-SC/SDSS_N_2a/20190527/SDSS_N_2a_arcdrfit-M02_W_0019.fits\n",
      "/data31/2019a-053-SC/SDSS_N_2a/20190527/SDSS_N_2a_arcdrfit-M02_W_0020.fits\n",
      "Flag NCal 1 of every 8 time stamps with delay of 0 time stamps\n",
      "Degrade frequency resolution from   0.476837158203 kHz to 488.281250000000 kHz\n",
      "By averaging avery 1024 frequency bins\n",
      "Freq(0) = 1000.243663787842 MHz, dFreq = 488.281250000000 kHz\n",
      "/data31/2019a-053-SC/SDSS_N_2a/20190527/SDSS_N_2a_arcdrfit-M03_W_0011.fits\n",
      "/data31/2019a-053-SC/SDSS_N_2a/20190527/SDSS_N_2a_arcdrfit-M03_W_0012.fits\n",
      "/data31/2019a-053-SC/SDSS_N_2a/20190527/SDSS_N_2a_arcdrfit-M03_W_0013.fits\n",
      "/data31/2019a-053-SC/SDSS_N_2a/20190527/SDSS_N_2a_arcdrfit-M03_W_0014.fits\n",
      "/data31/2019a-053-SC/SDSS_N_2a/20190527/SDSS_N_2a_arcdrfit-M03_W_0015.fits\n",
      "/data31/2019a-053-SC/SDSS_N_2a/20190527/SDSS_N_2a_arcdrfit-M03_W_0016.fits\n",
      "/data31/2019a-053-SC/SDSS_N_2a/20190527/SDSS_N_2a_arcdrfit-M03_W_0017.fits\n",
      "/data31/2019a-053-SC/SDSS_N_2a/20190527/SDSS_N_2a_arcdrfit-M03_W_0018.fits\n",
      "/data31/2019a-053-SC/SDSS_N_2a/20190527/SDSS_N_2a_arcdrfit-M03_W_0019.fits\n",
      "/data31/2019a-053-SC/SDSS_N_2a/20190527/SDSS_N_2a_arcdrfit-M03_W_0020.fits\n",
      "Flag NCal 1 of every 8 time stamps with delay of 0 time stamps\n",
      "Degrade frequency resolution from   0.476837158203 kHz to 488.281250000000 kHz\n",
      "By averaging avery 1024 frequency bins\n",
      "Freq(0) = 1000.243663787842 MHz, dFreq = 488.281250000000 kHz\n",
      "/data31/2019a-053-SC/SDSS_N_2a/20190527/SDSS_N_2a_arcdrfit-M04_W_0011.fits\n",
      "/data31/2019a-053-SC/SDSS_N_2a/20190527/SDSS_N_2a_arcdrfit-M04_W_0012.fits\n",
      "/data31/2019a-053-SC/SDSS_N_2a/20190527/SDSS_N_2a_arcdrfit-M04_W_0013.fits\n",
      "/data31/2019a-053-SC/SDSS_N_2a/20190527/SDSS_N_2a_arcdrfit-M04_W_0014.fits\n",
      "/data31/2019a-053-SC/SDSS_N_2a/20190527/SDSS_N_2a_arcdrfit-M04_W_0015.fits\n",
      "/data31/2019a-053-SC/SDSS_N_2a/20190527/SDSS_N_2a_arcdrfit-M04_W_0016.fits\n",
      "/data31/2019a-053-SC/SDSS_N_2a/20190527/SDSS_N_2a_arcdrfit-M04_W_0017.fits\n",
      "/data31/2019a-053-SC/SDSS_N_2a/20190527/SDSS_N_2a_arcdrfit-M04_W_0018.fits\n",
      "/data31/2019a-053-SC/SDSS_N_2a/20190527/SDSS_N_2a_arcdrfit-M04_W_0019.fits\n",
      "/data31/2019a-053-SC/SDSS_N_2a/20190527/SDSS_N_2a_arcdrfit-M04_W_0020.fits\n",
      "Flag NCal 1 of every 8 time stamps with delay of 0 time stamps\n",
      "Degrade frequency resolution from   0.476837158203 kHz to 488.281250000000 kHz\n",
      "By averaging avery 1024 frequency bins\n",
      "Freq(0) = 1000.243663787842 MHz, dFreq = 488.281250000000 kHz\n",
      "/data31/2019a-053-SC/SDSS_N_2a/20190527/SDSS_N_2a_arcdrfit-M05_W_0011.fits\n",
      "/data31/2019a-053-SC/SDSS_N_2a/20190527/SDSS_N_2a_arcdrfit-M05_W_0012.fits\n",
      "/data31/2019a-053-SC/SDSS_N_2a/20190527/SDSS_N_2a_arcdrfit-M05_W_0013.fits\n",
      "/data31/2019a-053-SC/SDSS_N_2a/20190527/SDSS_N_2a_arcdrfit-M05_W_0014.fits\n",
      "/data31/2019a-053-SC/SDSS_N_2a/20190527/SDSS_N_2a_arcdrfit-M05_W_0015.fits\n",
      "/data31/2019a-053-SC/SDSS_N_2a/20190527/SDSS_N_2a_arcdrfit-M05_W_0016.fits\n",
      "/data31/2019a-053-SC/SDSS_N_2a/20190527/SDSS_N_2a_arcdrfit-M05_W_0017.fits\n",
      "/data31/2019a-053-SC/SDSS_N_2a/20190527/SDSS_N_2a_arcdrfit-M05_W_0018.fits\n",
      "/data31/2019a-053-SC/SDSS_N_2a/20190527/SDSS_N_2a_arcdrfit-M05_W_0019.fits\n",
      "/data31/2019a-053-SC/SDSS_N_2a/20190527/SDSS_N_2a_arcdrfit-M05_W_0020.fits\n",
      "Flag NCal 1 of every 8 time stamps with delay of 0 time stamps\n",
      "Degrade frequency resolution from   0.476837158203 kHz to 488.281250000000 kHz\n",
      "By averaging avery 1024 frequency bins\n",
      "Freq(0) = 1000.243663787842 MHz, dFreq = 488.281250000000 kHz\n",
      "/data31/2019a-053-SC/SDSS_N_2a/20190527/SDSS_N_2a_arcdrfit-M06_W_0011.fits\n",
      "/data31/2019a-053-SC/SDSS_N_2a/20190527/SDSS_N_2a_arcdrfit-M06_W_0012.fits\n",
      "/data31/2019a-053-SC/SDSS_N_2a/20190527/SDSS_N_2a_arcdrfit-M06_W_0013.fits\n",
      "/data31/2019a-053-SC/SDSS_N_2a/20190527/SDSS_N_2a_arcdrfit-M06_W_0014.fits\n",
      "/data31/2019a-053-SC/SDSS_N_2a/20190527/SDSS_N_2a_arcdrfit-M06_W_0015.fits\n",
      "/data31/2019a-053-SC/SDSS_N_2a/20190527/SDSS_N_2a_arcdrfit-M06_W_0016.fits\n",
      "/data31/2019a-053-SC/SDSS_N_2a/20190527/SDSS_N_2a_arcdrfit-M06_W_0017.fits\n",
      "/data31/2019a-053-SC/SDSS_N_2a/20190527/SDSS_N_2a_arcdrfit-M06_W_0018.fits\n",
      "/data31/2019a-053-SC/SDSS_N_2a/20190527/SDSS_N_2a_arcdrfit-M06_W_0019.fits\n",
      "/data31/2019a-053-SC/SDSS_N_2a/20190527/SDSS_N_2a_arcdrfit-M06_W_0020.fits\n",
      "Flag NCal 1 of every 8 time stamps with delay of 0 time stamps\n",
      "Degrade frequency resolution from   0.476837158203 kHz to 488.281250000000 kHz\n",
      "By averaging avery 1024 frequency bins\n",
      "Freq(0) = 1000.243663787842 MHz, dFreq = 488.281250000000 kHz\n",
      "/data31/2019a-053-SC/SDSS_N_2a/20190527/SDSS_N_2a_arcdrfit-M07_W_0011.fits\n",
      "/data31/2019a-053-SC/SDSS_N_2a/20190527/SDSS_N_2a_arcdrfit-M07_W_0012.fits\n",
      "/data31/2019a-053-SC/SDSS_N_2a/20190527/SDSS_N_2a_arcdrfit-M07_W_0013.fits\n",
      "/data31/2019a-053-SC/SDSS_N_2a/20190527/SDSS_N_2a_arcdrfit-M07_W_0014.fits\n",
      "/data31/2019a-053-SC/SDSS_N_2a/20190527/SDSS_N_2a_arcdrfit-M07_W_0015.fits\n",
      "/data31/2019a-053-SC/SDSS_N_2a/20190527/SDSS_N_2a_arcdrfit-M07_W_0016.fits\n",
      "/data31/2019a-053-SC/SDSS_N_2a/20190527/SDSS_N_2a_arcdrfit-M07_W_0017.fits\n",
      "/data31/2019a-053-SC/SDSS_N_2a/20190527/SDSS_N_2a_arcdrfit-M07_W_0018.fits\n",
      "/data31/2019a-053-SC/SDSS_N_2a/20190527/SDSS_N_2a_arcdrfit-M07_W_0019.fits\n",
      "/data31/2019a-053-SC/SDSS_N_2a/20190527/SDSS_N_2a_arcdrfit-M07_W_0020.fits\n",
      "Flag NCal 1 of every 8 time stamps with delay of 0 time stamps\n",
      "Degrade frequency resolution from   0.476837158203 kHz to 488.281250000000 kHz\n",
      "By averaging avery 1024 frequency bins\n",
      "Freq(0) = 1000.243663787842 MHz, dFreq = 488.281250000000 kHz\n",
      "/data31/2019a-053-SC/SDSS_N_2a/20190527/SDSS_N_2a_arcdrfit-M08_W_0011.fits\n",
      "/data31/2019a-053-SC/SDSS_N_2a/20190527/SDSS_N_2a_arcdrfit-M08_W_0012.fits\n",
      "/data31/2019a-053-SC/SDSS_N_2a/20190527/SDSS_N_2a_arcdrfit-M08_W_0013.fits\n",
      "/data31/2019a-053-SC/SDSS_N_2a/20190527/SDSS_N_2a_arcdrfit-M08_W_0014.fits\n",
      "/data31/2019a-053-SC/SDSS_N_2a/20190527/SDSS_N_2a_arcdrfit-M08_W_0015.fits\n",
      "/data31/2019a-053-SC/SDSS_N_2a/20190527/SDSS_N_2a_arcdrfit-M08_W_0016.fits\n",
      "/data31/2019a-053-SC/SDSS_N_2a/20190527/SDSS_N_2a_arcdrfit-M08_W_0017.fits\n",
      "/data31/2019a-053-SC/SDSS_N_2a/20190527/SDSS_N_2a_arcdrfit-M08_W_0018.fits\n",
      "/data31/2019a-053-SC/SDSS_N_2a/20190527/SDSS_N_2a_arcdrfit-M08_W_0019.fits\n",
      "/data31/2019a-053-SC/SDSS_N_2a/20190527/SDSS_N_2a_arcdrfit-M08_W_0020.fits\n",
      "Flag NCal 1 of every 8 time stamps with delay of 0 time stamps\n",
      "Degrade frequency resolution from   0.476837158203 kHz to 488.281250000000 kHz\n",
      "By averaging avery 1024 frequency bins\n",
      "Freq(0) = 1000.243663787842 MHz, dFreq = 488.281250000000 kHz\n",
      "/data31/2019a-053-SC/SDSS_N_2a/20190527/SDSS_N_2a_arcdrfit-M09_W_0011.fits\n",
      "/data31/2019a-053-SC/SDSS_N_2a/20190527/SDSS_N_2a_arcdrfit-M09_W_0012.fits\n",
      "/data31/2019a-053-SC/SDSS_N_2a/20190527/SDSS_N_2a_arcdrfit-M09_W_0013.fits\n",
      "/data31/2019a-053-SC/SDSS_N_2a/20190527/SDSS_N_2a_arcdrfit-M09_W_0014.fits\n",
      "/data31/2019a-053-SC/SDSS_N_2a/20190527/SDSS_N_2a_arcdrfit-M09_W_0015.fits\n",
      "/data31/2019a-053-SC/SDSS_N_2a/20190527/SDSS_N_2a_arcdrfit-M09_W_0016.fits\n",
      "/data31/2019a-053-SC/SDSS_N_2a/20190527/SDSS_N_2a_arcdrfit-M09_W_0017.fits\n",
      "/data31/2019a-053-SC/SDSS_N_2a/20190527/SDSS_N_2a_arcdrfit-M09_W_0018.fits\n",
      "/data31/2019a-053-SC/SDSS_N_2a/20190527/SDSS_N_2a_arcdrfit-M09_W_0019.fits\n",
      "/data31/2019a-053-SC/SDSS_N_2a/20190527/SDSS_N_2a_arcdrfit-M09_W_0020.fits\n",
      "Flag NCal 1 of every 8 time stamps with delay of 0 time stamps\n",
      "Degrade frequency resolution from   0.476837158203 kHz to 488.281250000000 kHz\n",
      "By averaging avery 1024 frequency bins\n",
      "Freq(0) = 1000.243663787842 MHz, dFreq = 488.281250000000 kHz\n",
      "/data31/2019a-053-SC/SDSS_N_2a/20190527/SDSS_N_2a_arcdrfit-M10_W_0011.fits\n",
      "/data31/2019a-053-SC/SDSS_N_2a/20190527/SDSS_N_2a_arcdrfit-M10_W_0012.fits\n",
      "/data31/2019a-053-SC/SDSS_N_2a/20190527/SDSS_N_2a_arcdrfit-M10_W_0013.fits\n",
      "/data31/2019a-053-SC/SDSS_N_2a/20190527/SDSS_N_2a_arcdrfit-M10_W_0014.fits\n",
      "/data31/2019a-053-SC/SDSS_N_2a/20190527/SDSS_N_2a_arcdrfit-M10_W_0015.fits\n",
      "/data31/2019a-053-SC/SDSS_N_2a/20190527/SDSS_N_2a_arcdrfit-M10_W_0016.fits\n",
      "/data31/2019a-053-SC/SDSS_N_2a/20190527/SDSS_N_2a_arcdrfit-M10_W_0017.fits\n",
      "/data31/2019a-053-SC/SDSS_N_2a/20190527/SDSS_N_2a_arcdrfit-M10_W_0018.fits\n",
      "/data31/2019a-053-SC/SDSS_N_2a/20190527/SDSS_N_2a_arcdrfit-M10_W_0019.fits\n",
      "/data31/2019a-053-SC/SDSS_N_2a/20190527/SDSS_N_2a_arcdrfit-M10_W_0020.fits\n",
      "Flag NCal 1 of every 8 time stamps with delay of 0 time stamps\n",
      "Degrade frequency resolution from   0.476837158203 kHz to 488.281250000000 kHz\n",
      "By averaging avery 1024 frequency bins\n",
      "Freq(0) = 1000.243663787842 MHz, dFreq = 488.281250000000 kHz\n",
      "/data31/2019a-053-SC/SDSS_N_2a/20190527/SDSS_N_2a_arcdrfit-M11_W_0011.fits\n",
      "/data31/2019a-053-SC/SDSS_N_2a/20190527/SDSS_N_2a_arcdrfit-M11_W_0012.fits\n",
      "/data31/2019a-053-SC/SDSS_N_2a/20190527/SDSS_N_2a_arcdrfit-M11_W_0013.fits\n",
      "/data31/2019a-053-SC/SDSS_N_2a/20190527/SDSS_N_2a_arcdrfit-M11_W_0014.fits\n",
      "/data31/2019a-053-SC/SDSS_N_2a/20190527/SDSS_N_2a_arcdrfit-M11_W_0015.fits\n",
      "/data31/2019a-053-SC/SDSS_N_2a/20190527/SDSS_N_2a_arcdrfit-M11_W_0016.fits\n",
      "/data31/2019a-053-SC/SDSS_N_2a/20190527/SDSS_N_2a_arcdrfit-M11_W_0017.fits\n",
      "/data31/2019a-053-SC/SDSS_N_2a/20190527/SDSS_N_2a_arcdrfit-M11_W_0018.fits\n",
      "/data31/2019a-053-SC/SDSS_N_2a/20190527/SDSS_N_2a_arcdrfit-M11_W_0019.fits\n",
      "/data31/2019a-053-SC/SDSS_N_2a/20190527/SDSS_N_2a_arcdrfit-M11_W_0020.fits\n",
      "Flag NCal 1 of every 8 time stamps with delay of 0 time stamps\n",
      "Degrade frequency resolution from   0.476837158203 kHz to 488.281250000000 kHz\n",
      "By averaging avery 1024 frequency bins\n",
      "Freq(0) = 1000.243663787842 MHz, dFreq = 488.281250000000 kHz\n",
      "/data31/2019a-053-SC/SDSS_N_2a/20190527/SDSS_N_2a_arcdrfit-M12_W_0011.fits\n",
      "/data31/2019a-053-SC/SDSS_N_2a/20190527/SDSS_N_2a_arcdrfit-M12_W_0012.fits\n",
      "/data31/2019a-053-SC/SDSS_N_2a/20190527/SDSS_N_2a_arcdrfit-M12_W_0013.fits\n",
      "/data31/2019a-053-SC/SDSS_N_2a/20190527/SDSS_N_2a_arcdrfit-M12_W_0014.fits\n",
      "/data31/2019a-053-SC/SDSS_N_2a/20190527/SDSS_N_2a_arcdrfit-M12_W_0015.fits\n",
      "/data31/2019a-053-SC/SDSS_N_2a/20190527/SDSS_N_2a_arcdrfit-M12_W_0016.fits\n",
      "/data31/2019a-053-SC/SDSS_N_2a/20190527/SDSS_N_2a_arcdrfit-M12_W_0017.fits\n",
      "/data31/2019a-053-SC/SDSS_N_2a/20190527/SDSS_N_2a_arcdrfit-M12_W_0018.fits\n",
      "/data31/2019a-053-SC/SDSS_N_2a/20190527/SDSS_N_2a_arcdrfit-M12_W_0019.fits\n",
      "/data31/2019a-053-SC/SDSS_N_2a/20190527/SDSS_N_2a_arcdrfit-M12_W_0020.fits\n",
      "Flag NCal 1 of every 8 time stamps with delay of 0 time stamps\n",
      "Degrade frequency resolution from   0.476837158203 kHz to 488.281250000000 kHz\n",
      "By averaging avery 1024 frequency bins\n",
      "Freq(0) = 1000.243663787842 MHz, dFreq = 488.281250000000 kHz\n",
      "/data31/2019a-053-SC/SDSS_N_2a/20190527/SDSS_N_2a_arcdrfit-M13_W_0011.fits\n",
      "/data31/2019a-053-SC/SDSS_N_2a/20190527/SDSS_N_2a_arcdrfit-M13_W_0012.fits\n",
      "/data31/2019a-053-SC/SDSS_N_2a/20190527/SDSS_N_2a_arcdrfit-M13_W_0013.fits\n",
      "/data31/2019a-053-SC/SDSS_N_2a/20190527/SDSS_N_2a_arcdrfit-M13_W_0014.fits\n",
      "/data31/2019a-053-SC/SDSS_N_2a/20190527/SDSS_N_2a_arcdrfit-M13_W_0015.fits\n",
      "/data31/2019a-053-SC/SDSS_N_2a/20190527/SDSS_N_2a_arcdrfit-M13_W_0016.fits\n",
      "/data31/2019a-053-SC/SDSS_N_2a/20190527/SDSS_N_2a_arcdrfit-M13_W_0017.fits\n",
      "/data31/2019a-053-SC/SDSS_N_2a/20190527/SDSS_N_2a_arcdrfit-M13_W_0018.fits\n",
      "/data31/2019a-053-SC/SDSS_N_2a/20190527/SDSS_N_2a_arcdrfit-M13_W_0019.fits\n",
      "/data31/2019a-053-SC/SDSS_N_2a/20190527/SDSS_N_2a_arcdrfit-M13_W_0020.fits\n",
      "Flag NCal 1 of every 8 time stamps with delay of 0 time stamps\n",
      "Degrade frequency resolution from   0.476837158203 kHz to 488.281250000000 kHz\n",
      "By averaging avery 1024 frequency bins\n",
      "Freq(0) = 1000.243663787842 MHz, dFreq = 488.281250000000 kHz\n",
      "/data31/2019a-053-SC/SDSS_N_2a/20190527/SDSS_N_2a_arcdrfit-M14_W_0011.fits\n",
      "/data31/2019a-053-SC/SDSS_N_2a/20190527/SDSS_N_2a_arcdrfit-M14_W_0012.fits\n",
      "/data31/2019a-053-SC/SDSS_N_2a/20190527/SDSS_N_2a_arcdrfit-M14_W_0013.fits\n",
      "/data31/2019a-053-SC/SDSS_N_2a/20190527/SDSS_N_2a_arcdrfit-M14_W_0014.fits\n",
      "/data31/2019a-053-SC/SDSS_N_2a/20190527/SDSS_N_2a_arcdrfit-M14_W_0015.fits\n",
      "/data31/2019a-053-SC/SDSS_N_2a/20190527/SDSS_N_2a_arcdrfit-M14_W_0016.fits\n",
      "/data31/2019a-053-SC/SDSS_N_2a/20190527/SDSS_N_2a_arcdrfit-M14_W_0017.fits\n",
      "/data31/2019a-053-SC/SDSS_N_2a/20190527/SDSS_N_2a_arcdrfit-M14_W_0018.fits\n",
      "/data31/2019a-053-SC/SDSS_N_2a/20190527/SDSS_N_2a_arcdrfit-M14_W_0019.fits\n",
      "/data31/2019a-053-SC/SDSS_N_2a/20190527/SDSS_N_2a_arcdrfit-M14_W_0020.fits\n",
      "Flag NCal 1 of every 8 time stamps with delay of 0 time stamps\n",
      "Degrade frequency resolution from   0.476837158203 kHz to 488.281250000000 kHz\n",
      "By averaging avery 1024 frequency bins\n",
      "Freq(0) = 1000.243663787842 MHz, dFreq = 488.281250000000 kHz\n",
      "/data31/2019a-053-SC/SDSS_N_2a/20190527/SDSS_N_2a_arcdrfit-M15_W_0011.fits\n",
      "/data31/2019a-053-SC/SDSS_N_2a/20190527/SDSS_N_2a_arcdrfit-M15_W_0012.fits\n",
      "/data31/2019a-053-SC/SDSS_N_2a/20190527/SDSS_N_2a_arcdrfit-M15_W_0013.fits\n",
      "/data31/2019a-053-SC/SDSS_N_2a/20190527/SDSS_N_2a_arcdrfit-M15_W_0014.fits\n",
      "/data31/2019a-053-SC/SDSS_N_2a/20190527/SDSS_N_2a_arcdrfit-M15_W_0015.fits\n",
      "/data31/2019a-053-SC/SDSS_N_2a/20190527/SDSS_N_2a_arcdrfit-M15_W_0016.fits\n",
      "/data31/2019a-053-SC/SDSS_N_2a/20190527/SDSS_N_2a_arcdrfit-M15_W_0017.fits\n",
      "/data31/2019a-053-SC/SDSS_N_2a/20190527/SDSS_N_2a_arcdrfit-M15_W_0018.fits\n",
      "/data31/2019a-053-SC/SDSS_N_2a/20190527/SDSS_N_2a_arcdrfit-M15_W_0019.fits\n",
      "/data31/2019a-053-SC/SDSS_N_2a/20190527/SDSS_N_2a_arcdrfit-M15_W_0020.fits\n",
      "Flag NCal 1 of every 8 time stamps with delay of 0 time stamps\n",
      "Degrade frequency resolution from   0.476837158203 kHz to 488.281250000000 kHz\n",
      "By averaging avery 1024 frequency bins\n",
      "Freq(0) = 1000.243663787842 MHz, dFreq = 488.281250000000 kHz\n",
      "/data31/2019a-053-SC/SDSS_N_2a/20190527/SDSS_N_2a_arcdrfit-M16_W_0011.fits\n",
      "/data31/2019a-053-SC/SDSS_N_2a/20190527/SDSS_N_2a_arcdrfit-M16_W_0012.fits\n",
      "/data31/2019a-053-SC/SDSS_N_2a/20190527/SDSS_N_2a_arcdrfit-M16_W_0013.fits\n",
      "/data31/2019a-053-SC/SDSS_N_2a/20190527/SDSS_N_2a_arcdrfit-M16_W_0014.fits\n",
      "/data31/2019a-053-SC/SDSS_N_2a/20190527/SDSS_N_2a_arcdrfit-M16_W_0015.fits\n",
      "/data31/2019a-053-SC/SDSS_N_2a/20190527/SDSS_N_2a_arcdrfit-M16_W_0016.fits\n",
      "/data31/2019a-053-SC/SDSS_N_2a/20190527/SDSS_N_2a_arcdrfit-M16_W_0017.fits\n",
      "/data31/2019a-053-SC/SDSS_N_2a/20190527/SDSS_N_2a_arcdrfit-M16_W_0018.fits\n",
      "/data31/2019a-053-SC/SDSS_N_2a/20190527/SDSS_N_2a_arcdrfit-M16_W_0019.fits\n",
      "/data31/2019a-053-SC/SDSS_N_2a/20190527/SDSS_N_2a_arcdrfit-M16_W_0020.fits\n",
      "Flag NCal 1 of every 8 time stamps with delay of 0 time stamps\n",
      "Degrade frequency resolution from   0.476837158203 kHz to 488.281250000000 kHz\n",
      "By averaging avery 1024 frequency bins\n",
      "Freq(0) = 1000.243663787842 MHz, dFreq = 488.281250000000 kHz\n",
      "/data31/2019a-053-SC/SDSS_N_2a/20190527/SDSS_N_2a_arcdrfit-M17_W_0011.fits\n",
      "/data31/2019a-053-SC/SDSS_N_2a/20190527/SDSS_N_2a_arcdrfit-M17_W_0012.fits\n",
      "/data31/2019a-053-SC/SDSS_N_2a/20190527/SDSS_N_2a_arcdrfit-M17_W_0013.fits\n",
      "/data31/2019a-053-SC/SDSS_N_2a/20190527/SDSS_N_2a_arcdrfit-M17_W_0014.fits\n",
      "/data31/2019a-053-SC/SDSS_N_2a/20190527/SDSS_N_2a_arcdrfit-M17_W_0015.fits\n",
      "/data31/2019a-053-SC/SDSS_N_2a/20190527/SDSS_N_2a_arcdrfit-M17_W_0016.fits\n",
      "/data31/2019a-053-SC/SDSS_N_2a/20190527/SDSS_N_2a_arcdrfit-M17_W_0017.fits\n",
      "/data31/2019a-053-SC/SDSS_N_2a/20190527/SDSS_N_2a_arcdrfit-M17_W_0018.fits\n",
      "/data31/2019a-053-SC/SDSS_N_2a/20190527/SDSS_N_2a_arcdrfit-M17_W_0019.fits\n",
      "/data31/2019a-053-SC/SDSS_N_2a/20190527/SDSS_N_2a_arcdrfit-M17_W_0020.fits\n",
      "Flag NCal 1 of every 8 time stamps with delay of 0 time stamps\n",
      "Degrade frequency resolution from   0.476837158203 kHz to 488.281250000000 kHz\n",
      "By averaging avery 1024 frequency bins\n",
      "Freq(0) = 1000.243663787842 MHz, dFreq = 488.281250000000 kHz\n",
      "/data31/2019a-053-SC/SDSS_N_2a/20190527/SDSS_N_2a_arcdrfit-M18_W_0011.fits\n",
      "/data31/2019a-053-SC/SDSS_N_2a/20190527/SDSS_N_2a_arcdrfit-M18_W_0012.fits\n",
      "/data31/2019a-053-SC/SDSS_N_2a/20190527/SDSS_N_2a_arcdrfit-M18_W_0013.fits\n",
      "/data31/2019a-053-SC/SDSS_N_2a/20190527/SDSS_N_2a_arcdrfit-M18_W_0014.fits\n",
      "/data31/2019a-053-SC/SDSS_N_2a/20190527/SDSS_N_2a_arcdrfit-M18_W_0015.fits\n",
      "/data31/2019a-053-SC/SDSS_N_2a/20190527/SDSS_N_2a_arcdrfit-M18_W_0016.fits\n",
      "/data31/2019a-053-SC/SDSS_N_2a/20190527/SDSS_N_2a_arcdrfit-M18_W_0017.fits\n",
      "/data31/2019a-053-SC/SDSS_N_2a/20190527/SDSS_N_2a_arcdrfit-M18_W_0018.fits\n",
      "/data31/2019a-053-SC/SDSS_N_2a/20190527/SDSS_N_2a_arcdrfit-M18_W_0019.fits\n",
      "/data31/2019a-053-SC/SDSS_N_2a/20190527/SDSS_N_2a_arcdrfit-M18_W_0020.fits\n",
      "Flag NCal 1 of every 8 time stamps with delay of 0 time stamps\n",
      "Degrade frequency resolution from   0.476837158203 kHz to 488.281250000000 kHz\n",
      "By averaging avery 1024 frequency bins\n",
      "Freq(0) = 1000.243663787842 MHz, dFreq = 488.281250000000 kHz\n",
      "/data31/2019a-053-SC/SDSS_N_2a/20190527/SDSS_N_2a_arcdrfit-M19_W_0011.fits\n",
      "/data31/2019a-053-SC/SDSS_N_2a/20190527/SDSS_N_2a_arcdrfit-M19_W_0012.fits\n",
      "/data31/2019a-053-SC/SDSS_N_2a/20190527/SDSS_N_2a_arcdrfit-M19_W_0013.fits\n",
      "/data31/2019a-053-SC/SDSS_N_2a/20190527/SDSS_N_2a_arcdrfit-M19_W_0014.fits\n",
      "/data31/2019a-053-SC/SDSS_N_2a/20190527/SDSS_N_2a_arcdrfit-M19_W_0015.fits\n",
      "/data31/2019a-053-SC/SDSS_N_2a/20190527/SDSS_N_2a_arcdrfit-M19_W_0016.fits\n",
      "/data31/2019a-053-SC/SDSS_N_2a/20190527/SDSS_N_2a_arcdrfit-M19_W_0017.fits\n",
      "/data31/2019a-053-SC/SDSS_N_2a/20190527/SDSS_N_2a_arcdrfit-M19_W_0018.fits\n",
      "/data31/2019a-053-SC/SDSS_N_2a/20190527/SDSS_N_2a_arcdrfit-M19_W_0019.fits\n",
      "/data31/2019a-053-SC/SDSS_N_2a/20190527/SDSS_N_2a_arcdrfit-M19_W_0020.fits\n",
      "Flag NCal 1 of every 8 time stamps with delay of 0 time stamps\n",
      "Degrade frequency resolution from   0.476837158203 kHz to 488.281250000000 kHz\n",
      "By averaging avery 1024 frequency bins\n",
      "Freq(0) = 1000.243663787842 MHz, dFreq = 488.281250000000 kHz\n",
      "\n"
     ]
    }
   ],
   "source": [
    "    \n",
    "dec0 = 26.15294\n",
    "feed_rotation = 0    \n",
    "_ra, _dec = dc.get_pointing_meridian_scan(t, dec0, feed_rotation=feed_rotation)"
   ]
  },
  {
   "cell_type": "code",
   "execution_count": 3,
   "metadata": {},
   "outputs": [
    {
     "name": "stderr",
     "output_type": "stream",
     "text": [
      "/usr/local/lib/python2.7/dist-packages/matplotlib/cbook/deprecation.py:107: MatplotlibDeprecationWarning: Adding an axes using the same arguments as a previous axes currently reuses the earlier instance.  In a future version, a new instance will always be created and returned.  Meanwhile, this warning can be suppressed, and the future behavior ensured, by passing a unique label to each axes instance.\n",
      "  warnings.warn(message, mplDeprecation, stacklevel=1)\n"
     ]
    },
    {
     "data": {
      "image/png": "[encoded data removed]",
      "text/plain": [
       "<Figure size 864x432 with 1 Axes>"
      ]
     },
     "metadata": {},
     "output_type": "display_data"
    }
   ],
   "source": [
    "plt.figure(figsize=(12, 6))\n",
    "\n",
    "for i in range(19):\n",
    "    plt.plot(ra[0,i], dec[0,i], 'go')\n",
    "    #plt.text(ra[0, i], dec[0, i] + 0.01, '%d'%(i))\n",
    "    plt.plot(ra[:,i], dec[:,i], ':')\n",
    "    plt.axes().set_aspect('equal')\n",
    "    \n",
    "for i in range(19):\n",
    "    plt.plot(_ra[0,i], _dec[0,i], 'go')\n",
    "    plt.text(_ra[0, i], _dec[0, i] + 0.01, '%d'%(i))\n",
    "    plt.plot(_ra[:,i], _dec[:,i])\n",
    "    plt.axes().set_aspect('equal')"
   ]
  },
  {
   "cell_type": "code",
   "execution_count": 25,
   "metadata": {},
   "outputs": [
    {
     "name": "stdout",
     "output_type": "stream",
     "text": [
      "131.869678148\n",
      "0.25\n"
     ]
    }
   ],
   "source": [
    "tt = Time(t, format='unix', location=EarthLocation(_Lon, _Lat))\n",
    "#tt = tt.utc.datetime\n",
    "#for _t in tt:\n",
    "#print tt[0].strftime('%Y%m%d_UTC%Hh%Mm%Ss')\n",
    "print tt.sidereal_time('apparent')[0].to(u.deg).value\n",
    "print (tt.sidereal_time('apparent')[0] + (15 * u.arcmin)).to(u.deg).value - tt.sidereal_time('apparent')[0].to(u.deg).value"
   ]
  },
  {
   "cell_type": "code",
   "execution_count": null,
   "metadata": {},
   "outputs": [],
   "source": []
  }
 ],
 "metadata": {
  "kernelspec": {
   "display_name": "Source Finding",
   "language": "python",
   "name": "source-finding"
  },
  "language_info": {
   "codemirror_mode": {
    "name": "ipython",
    "version": 2
   },
   "file_extension": ".py",
   "mimetype": "text/x-python",
   "name": "python",
   "nbconvert_exporter": "python",
   "pygments_lexer": "ipython2",
   "version": "2.7.11+"
  }
 },
 "nbformat": 4,
 "nbformat_minor": 2
}
